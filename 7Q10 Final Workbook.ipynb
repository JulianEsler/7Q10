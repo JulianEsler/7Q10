{
 "cells": [
  {
   "cell_type": "code",
   "execution_count": 20,
   "id": "0e954781",
   "metadata": {},
   "outputs": [],
   "source": [
    "# Open the text file for reading\n",
    "with open(\"/Users/julianesler/Downloads/dv.txt\", \"r\") as file:\n",
    "    # Read the entire contents of the file\n",
    "    file_contents = file.read()\n",
    "\n",
    "# Now 'file_contents' contains the contents of the text file\n",
    "#file_contents"
   ]
  },
  {
   "cell_type": "code",
   "execution_count": 21,
   "id": "f443ee32",
   "metadata": {
    "scrolled": true
   },
   "outputs": [],
   "source": [
    "import csv\n",
    "\n",
    "# Specify the input and output file names\n",
    "input_file = '/Users/julianesler/Downloads/dv.txt'\n",
    "output_file = 'output.csv'\n",
    "\n",
    "# Specify the delimiter used in the input file\n",
    "delimiter = '\\t'  # Change this to the actual delimiter used in your file\n",
    "\n",
    "# Open the input file in text mode and the output file in CSV mode\n",
    "with open(input_file, 'r') as infile, open(output_file, 'w', newline='') as outfile:\n",
    "    # Create a CSV writer object\n",
    "    csv_writer = csv.writer(outfile)\n",
    "\n",
    "    # Read each line from the input file and write it to the CSV file\n",
    "    for line in infile:\n",
    "        # Use the correct delimiter to split the line into fields\n",
    "        fields = line.strip().split(delimiter)\n",
    "        \n",
    "        # Write the fields to the CSV file\n",
    "        csv_writer.writerow(fields)\n",
    "\n",
    "# Open and print the contents of the output file\n",
    "with open(output_file, 'r') as printed_file:\n",
    "    content = printed_file.read()\n",
    "    #print(content)"
   ]
  },
  {
   "cell_type": "code",
   "execution_count": 22,
   "id": "511c084a",
   "metadata": {
    "scrolled": true
   },
   "outputs": [],
   "source": [
    "import pandas as pd\n",
    "\n",
    "# Specify the path to your CSV file\n",
    "csv_file_path = 'output.csv'\n",
    "\n",
    "# Read the CSV file into a DataFrame\n",
    "df = pd.read_csv(csv_file_path)\n",
    "\n",
    "# Now 'df' is a pandas DataFrame containing your CSV data\n",
    "#df"
   ]
  },
  {
   "cell_type": "code",
   "execution_count": 23,
   "id": "94d38d3f",
   "metadata": {},
   "outputs": [],
   "source": [
    "df.rename(columns={'agency_cd': 'Agency'}, inplace=True)\n",
    "df.rename(columns={'site_no': 'SiteID'}, inplace=True)\n",
    "df.rename(columns={'datetime': 'Date'}, inplace=True)\n",
    "df.rename(columns={'100139_00060_00003': 'Streamflow'}, inplace=True)\n",
    "df.rename(columns={'100139_00060_00003_cd': 'Grade'}, inplace=True)\n",
    "#df"
   ]
  },
  {
   "cell_type": "code",
   "execution_count": 24,
   "id": "019acdab",
   "metadata": {},
   "outputs": [
    {
     "data": {
      "text/plain": [
       "0        1934\n",
       "1        1934\n",
       "2        1934\n",
       "3        1934\n",
       "4        1934\n",
       "         ... \n",
       "32551    2023\n",
       "32552    2023\n",
       "32553    2023\n",
       "32554    2023\n",
       "32555    2023\n",
       "Name: Date, Length: 32556, dtype: object"
      ]
     },
     "execution_count": 24,
     "metadata": {},
     "output_type": "execute_result"
    }
   ],
   "source": [
    "df['Date'].str[:4]"
   ]
  },
  {
   "cell_type": "code",
   "execution_count": 25,
   "id": "5b391268",
   "metadata": {},
   "outputs": [],
   "source": [
    "# Convert 'Date' to datetime format\n",
    "df['Date'] = pd.to_datetime(df['Date'])\n",
    "\n",
    "df['Year'] = df['Date'].dt.year\n",
    "#df"
   ]
  },
  {
   "cell_type": "code",
   "execution_count": 26,
   "id": "201e739d",
   "metadata": {
    "scrolled": true
   },
   "outputs": [],
   "source": [
    "\n",
    "# Sort DataFrame by date (if not sorted already)\n",
    "df.sort_values(by='Date', inplace=True)\n",
    "\n",
    "# Add a new column for the rolling 7-day average\n",
    "df['7DayMean'] = df['Streamflow'].rolling(window=7).mean()\n",
    "\n",
    "# Display the result\n",
    "#df"
   ]
  },
  {
   "cell_type": "code",
   "execution_count": 27,
   "id": "4f505008",
   "metadata": {},
   "outputs": [],
   "source": [
    "import math\n",
    "import numpy as np\n",
    "\n",
    "#gdf stands for grouped daily flow or perhaps grouped data frame.\n",
    "gdf = df.groupby('Year')['7DayMean'].agg(list).reset_index()\n",
    "\n",
    "# Rename the columns if needed\n",
    "gdf.columns = ['Year', '7DayMean']\n",
    "\n",
    "ls = gdf.loc[0,'7DayMean']\n",
    "ls1 = [Q for Q in ls if not math.isnan(Q)]\n",
    "#print (ls1)\n",
    "#printed ls1 to check that all the nan values were deleted and that no extra values were deleted.\n",
    "\n",
    "# This replaces the first list in the gdf dataframe that had nan values with ls1, the cleaned list. \n",
    "gdf.at[0,'7DayMean'] = ls1\n",
    "# Display the result\n",
    "#gdf"
   ]
  },
  {
   "cell_type": "code",
   "execution_count": 28,
   "id": "991fb770",
   "metadata": {},
   "outputs": [
    {
     "data": {
      "text/html": [
       "<div>\n",
       "<style scoped>\n",
       "    .dataframe tbody tr th:only-of-type {\n",
       "        vertical-align: middle;\n",
       "    }\n",
       "\n",
       "    .dataframe tbody tr th {\n",
       "        vertical-align: top;\n",
       "    }\n",
       "\n",
       "    .dataframe thead th {\n",
       "        text-align: right;\n",
       "    }\n",
       "</style>\n",
       "<table border=\"1\" class=\"dataframe\">\n",
       "  <thead>\n",
       "    <tr style=\"text-align: right;\">\n",
       "      <th></th>\n",
       "      <th>Year</th>\n",
       "      <th>7DayMean</th>\n",
       "      <th>AnnualMin</th>\n",
       "    </tr>\n",
       "  </thead>\n",
       "  <tbody>\n",
       "    <tr>\n",
       "      <th>0</th>\n",
       "      <td>1934</td>\n",
       "      <td>[600.0, 550.0, 507.14285714285717, 464.2857142...</td>\n",
       "      <td>195.714286</td>\n",
       "    </tr>\n",
       "    <tr>\n",
       "      <th>1</th>\n",
       "      <td>1935</td>\n",
       "      <td>[479.14285714285717, 474.0, 474.0, 493.4285714...</td>\n",
       "      <td>380.285714</td>\n",
       "    </tr>\n",
       "    <tr>\n",
       "      <th>2</th>\n",
       "      <td>1936</td>\n",
       "      <td>[624.0, 624.0, 605.1428571428571, 584.85714285...</td>\n",
       "      <td>312.000000</td>\n",
       "    </tr>\n",
       "    <tr>\n",
       "      <th>3</th>\n",
       "      <td>1937</td>\n",
       "      <td>[683.5714285714286, 628.1428571428571, 584.142...</td>\n",
       "      <td>140.285714</td>\n",
       "    </tr>\n",
       "    <tr>\n",
       "      <th>4</th>\n",
       "      <td>1938</td>\n",
       "      <td>[548.2857142857143, 552.1428571428571, 554.714...</td>\n",
       "      <td>254.714286</td>\n",
       "    </tr>\n",
       "    <tr>\n",
       "      <th>...</th>\n",
       "      <td>...</td>\n",
       "      <td>...</td>\n",
       "      <td>...</td>\n",
       "    </tr>\n",
       "    <tr>\n",
       "      <th>85</th>\n",
       "      <td>2019</td>\n",
       "      <td>[501.2857142857143, 513.2857142857143, 521.571...</td>\n",
       "      <td>479.571429</td>\n",
       "    </tr>\n",
       "    <tr>\n",
       "      <th>86</th>\n",
       "      <td>2020</td>\n",
       "      <td>[867.1428571428571, 847.2857142857143, 832.428...</td>\n",
       "      <td>282.428571</td>\n",
       "    </tr>\n",
       "    <tr>\n",
       "      <th>87</th>\n",
       "      <td>2021</td>\n",
       "      <td>[492.14285714285717, 487.85714285714283, 480.8...</td>\n",
       "      <td>333.857143</td>\n",
       "    </tr>\n",
       "    <tr>\n",
       "      <th>88</th>\n",
       "      <td>2022</td>\n",
       "      <td>[554.7142857142857, 533.7142857142857, 523.571...</td>\n",
       "      <td>349.142857</td>\n",
       "    </tr>\n",
       "    <tr>\n",
       "      <th>89</th>\n",
       "      <td>2023</td>\n",
       "      <td>[587.8571428571429, 612.1428571428571, 624.285...</td>\n",
       "      <td>412.285714</td>\n",
       "    </tr>\n",
       "  </tbody>\n",
       "</table>\n",
       "<p>90 rows × 3 columns</p>\n",
       "</div>"
      ],
      "text/plain": [
       "    Year                                           7DayMean   AnnualMin\n",
       "0   1934  [600.0, 550.0, 507.14285714285717, 464.2857142...  195.714286\n",
       "1   1935  [479.14285714285717, 474.0, 474.0, 493.4285714...  380.285714\n",
       "2   1936  [624.0, 624.0, 605.1428571428571, 584.85714285...  312.000000\n",
       "3   1937  [683.5714285714286, 628.1428571428571, 584.142...  140.285714\n",
       "4   1938  [548.2857142857143, 552.1428571428571, 554.714...  254.714286\n",
       "..   ...                                                ...         ...\n",
       "85  2019  [501.2857142857143, 513.2857142857143, 521.571...  479.571429\n",
       "86  2020  [867.1428571428571, 847.2857142857143, 832.428...  282.428571\n",
       "87  2021  [492.14285714285717, 487.85714285714283, 480.8...  333.857143\n",
       "88  2022  [554.7142857142857, 533.7142857142857, 523.571...  349.142857\n",
       "89  2023  [587.8571428571429, 612.1428571428571, 624.285...  412.285714\n",
       "\n",
       "[90 rows x 3 columns]"
      ]
     },
     "execution_count": 28,
     "metadata": {},
     "output_type": "execute_result"
    }
   ],
   "source": [
    "# Find the minimum value for each list in the '7DayMean' column\n",
    "gdf['AnnualMin'] = gdf['7DayMean'].apply(lambda x: min(x) if x else None)\n",
    "\n",
    "# Display the result\n",
    "gdf"
   ]
  },
  {
   "cell_type": "code",
   "execution_count": 29,
   "id": "d3e46c14",
   "metadata": {},
   "outputs": [
    {
     "name": "stdout",
     "output_type": "stream",
     "text": [
      "    Year                                           7DayMean   AnnualMin  \\\n",
      "0   1934  [600.0, 550.0, 507.14285714285717, 464.2857142...  195.714286   \n",
      "1   1935  [479.14285714285717, 474.0, 474.0, 493.4285714...  380.285714   \n",
      "2   1936  [624.0, 624.0, 605.1428571428571, 584.85714285...  312.000000   \n",
      "3   1937  [683.5714285714286, 628.1428571428571, 584.142...  140.285714   \n",
      "4   1938  [548.2857142857143, 552.1428571428571, 554.714...  254.714286   \n",
      "..   ...                                                ...         ...   \n",
      "85  2019  [501.2857142857143, 513.2857142857143, 521.571...  479.571429   \n",
      "86  2020  [867.1428571428571, 847.2857142857143, 832.428...  282.428571   \n",
      "87  2021  [492.14285714285717, 487.85714285714283, 480.8...  333.857143   \n",
      "88  2022  [554.7142857142857, 533.7142857142857, 523.571...  349.142857   \n",
      "89  2023  [587.8571428571429, 612.1428571428571, 624.285...  412.285714   \n",
      "\n",
      "    SortedAnnualMin  \n",
      "0         12.714286  \n",
      "1         12.857143  \n",
      "2         16.714286  \n",
      "3         52.285714  \n",
      "4         65.857143  \n",
      "..              ...  \n",
      "85       873.714286  \n",
      "86       933.571429  \n",
      "87       973.857143  \n",
      "88      1415.714286  \n",
      "89      1594.285714  \n",
      "\n",
      "[90 rows x 4 columns]\n"
     ]
    }
   ],
   "source": [
    "gdf['SortedAnnualMin'] = gdf['AnnualMin'].sort_values().tolist()\n",
    "print(gdf)"
   ]
  },
  {
   "cell_type": "code",
   "execution_count": 30,
   "id": "513fe181",
   "metadata": {},
   "outputs": [
    {
     "name": "stdout",
     "output_type": "stream",
     "text": [
      "7Q10 Low Flow (CF/S): 85.5142857142857\n"
     ]
    }
   ],
   "source": [
    "low_flow = gdf['SortedAnnualMin'].quantile(0.1)\n",
    "print(\"7Q10 Low Flow (CF/S):\", low_flow)"
   ]
  },
  {
   "cell_type": "code",
   "execution_count": 31,
   "id": "905937a3",
   "metadata": {},
   "outputs": [
    {
     "data": {
      "image/png": "[encoded data removed]",
      "text/plain": [
       "<Figure size 640x480 with 1 Axes>"
      ]
     },
     "metadata": {},
     "output_type": "display_data"
    }
   ],
   "source": [
    "import matplotlib.pyplot as plt\n",
    "\n",
    "# Plotting\n",
    "plt.plot(gdf['Year'], gdf['AnnualMin'], marker='o', linestyle='-')\n",
    "plt.title('Annual Minimum Streamflow 1934-2023')\n",
    "plt.xlabel('Year')\n",
    "plt.ylabel('Annual Minimum (cfs)')\n",
    "plt.grid(True)\n",
    "plt.show()"
   ]
  }
 ],
 "metadata": {
  "kernelspec": {
   "display_name": "Python 3 (ipykernel)",
   "language": "python",
   "name": "python3"
  },
  "language_info": {
   "codemirror_mode": {
    "name": "ipython",
    "version": 3
   },
   "file_extension": ".py",
   "mimetype": "text/x-python",
   "name": "python",
   "nbconvert_exporter": "python",
   "pygments_lexer": "ipython3",
   "version": "3.11.5"
  }
 },
 "nbformat": 4,
 "nbformat_minor": 5
}
